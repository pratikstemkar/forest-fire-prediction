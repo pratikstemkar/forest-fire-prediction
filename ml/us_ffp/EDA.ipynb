{
 "cells": [
  {
   "cell_type": "markdown",
   "id": "603b3352",
   "metadata": {},
   "source": [
    "# Data EDA\n",
    "\n",
    "## 1. Import Packages\n"
   ]
  },
  {
   "cell_type": "code",
   "execution_count": 1,
   "id": "b5589da1",
   "metadata": {},
   "outputs": [],
   "source": [
    "# For loading Database\n",
    "import sqlite3\n",
    "\n",
    "# For Data Manipulation\n",
    "import numpy as np\n",
    "import pandas as pd\n",
    "\n",
    "# For Data Visualization\n",
    "import seaborn as sns\n",
    "import matplotlib.pyplot as plt\n",
    "\n",
    "# For Model Data \n",
    "from sklearn.model_selection import train_test_split\n",
    "from sklearn import preprocessing \n",
    "\n",
    "# Visualization of High Dimensional Data\n",
    "from IPython.display import display\n",
    "from sklearn.manifold import TSNE\n",
    "\n",
    "# ML Model\n",
    "from sklearn import svm\n",
    "\n",
    "#For creating a heat map\n",
    "import colorcet as cc\n",
    "from bokeh.io import output_notebook\n",
    "from bokeh.plotting import figure, show\n",
    "from bokeh.models import ColumnDataSource, LogColorMapper, ColorBar, LogTicker"
   ]
  },
  {
   "cell_type": "markdown",
   "id": "df04cdf7",
   "metadata": {},
   "source": [
    "## 2. Connect to sqlite DB"
   ]
  },
  {
   "cell_type": "code",
   "execution_count": 2,
   "id": "f98babc6",
   "metadata": {},
   "outputs": [],
   "source": [
    "conn = sqlite3.connect('sqlite/FPA_FOD_20170508.sqlite')"
   ]
  },
  {
   "cell_type": "markdown",
   "id": "23c5d7cb",
   "metadata": {},
   "source": [
    "#### Get the DB into Pandas DataFrame"
   ]
  },
  {
   "cell_type": "code",
   "execution_count": 3,
   "id": "58a58218",
   "metadata": {},
   "outputs": [
    {
     "data": {
      "text/html": [
       "<div>\n",
       "<style scoped>\n",
       "    .dataframe tbody tr th:only-of-type {\n",
       "        vertical-align: middle;\n",
       "    }\n",
       "\n",
       "    .dataframe tbody tr th {\n",
       "        vertical-align: top;\n",
       "    }\n",
       "\n",
       "    .dataframe thead th {\n",
       "        text-align: right;\n",
       "    }\n",
       "</style>\n",
       "<table border=\"1\" class=\"dataframe\">\n",
       "  <thead>\n",
       "    <tr style=\"text-align: right;\">\n",
       "      <th></th>\n",
       "      <th>OBJECTID</th>\n",
       "      <th>FOD_ID</th>\n",
       "      <th>FPA_ID</th>\n",
       "      <th>SOURCE_SYSTEM_TYPE</th>\n",
       "      <th>SOURCE_SYSTEM</th>\n",
       "      <th>NWCG_REPORTING_AGENCY</th>\n",
       "      <th>NWCG_REPORTING_UNIT_ID</th>\n",
       "      <th>NWCG_REPORTING_UNIT_NAME</th>\n",
       "      <th>SOURCE_REPORTING_UNIT</th>\n",
       "      <th>SOURCE_REPORTING_UNIT_NAME</th>\n",
       "      <th>...</th>\n",
       "      <th>FIRE_SIZE_CLASS</th>\n",
       "      <th>LATITUDE</th>\n",
       "      <th>LONGITUDE</th>\n",
       "      <th>OWNER_CODE</th>\n",
       "      <th>OWNER_DESCR</th>\n",
       "      <th>STATE</th>\n",
       "      <th>COUNTY</th>\n",
       "      <th>FIPS_CODE</th>\n",
       "      <th>FIPS_NAME</th>\n",
       "      <th>Shape</th>\n",
       "    </tr>\n",
       "  </thead>\n",
       "  <tbody>\n",
       "    <tr>\n",
       "      <th>0</th>\n",
       "      <td>1</td>\n",
       "      <td>1</td>\n",
       "      <td>FS-1418826</td>\n",
       "      <td>FED</td>\n",
       "      <td>FS-FIRESTAT</td>\n",
       "      <td>FS</td>\n",
       "      <td>USCAPNF</td>\n",
       "      <td>Plumas National Forest</td>\n",
       "      <td>0511</td>\n",
       "      <td>Plumas National Forest</td>\n",
       "      <td>...</td>\n",
       "      <td>A</td>\n",
       "      <td>40.036944</td>\n",
       "      <td>-121.005833</td>\n",
       "      <td>5.0</td>\n",
       "      <td>USFS</td>\n",
       "      <td>CA</td>\n",
       "      <td>63</td>\n",
       "      <td>063</td>\n",
       "      <td>Plumas</td>\n",
       "      <td>b'\\x00\\x01\\xad\\x10\\x00\\x00\\xe8d\\xc2\\x92_@^\\xc0...</td>\n",
       "    </tr>\n",
       "    <tr>\n",
       "      <th>1</th>\n",
       "      <td>2</td>\n",
       "      <td>2</td>\n",
       "      <td>FS-1418827</td>\n",
       "      <td>FED</td>\n",
       "      <td>FS-FIRESTAT</td>\n",
       "      <td>FS</td>\n",
       "      <td>USCAENF</td>\n",
       "      <td>Eldorado National Forest</td>\n",
       "      <td>0503</td>\n",
       "      <td>Eldorado National Forest</td>\n",
       "      <td>...</td>\n",
       "      <td>A</td>\n",
       "      <td>38.933056</td>\n",
       "      <td>-120.404444</td>\n",
       "      <td>5.0</td>\n",
       "      <td>USFS</td>\n",
       "      <td>CA</td>\n",
       "      <td>61</td>\n",
       "      <td>061</td>\n",
       "      <td>Placer</td>\n",
       "      <td>b'\\x00\\x01\\xad\\x10\\x00\\x00T\\xb6\\xeej\\xe2\\x19^\\...</td>\n",
       "    </tr>\n",
       "    <tr>\n",
       "      <th>2</th>\n",
       "      <td>3</td>\n",
       "      <td>3</td>\n",
       "      <td>FS-1418835</td>\n",
       "      <td>FED</td>\n",
       "      <td>FS-FIRESTAT</td>\n",
       "      <td>FS</td>\n",
       "      <td>USCAENF</td>\n",
       "      <td>Eldorado National Forest</td>\n",
       "      <td>0503</td>\n",
       "      <td>Eldorado National Forest</td>\n",
       "      <td>...</td>\n",
       "      <td>A</td>\n",
       "      <td>38.984167</td>\n",
       "      <td>-120.735556</td>\n",
       "      <td>13.0</td>\n",
       "      <td>STATE OR PRIVATE</td>\n",
       "      <td>CA</td>\n",
       "      <td>17</td>\n",
       "      <td>017</td>\n",
       "      <td>El Dorado</td>\n",
       "      <td>b'\\x00\\x01\\xad\\x10\\x00\\x00\\xd0\\xa5\\xa0W\\x13/^\\...</td>\n",
       "    </tr>\n",
       "    <tr>\n",
       "      <th>3</th>\n",
       "      <td>4</td>\n",
       "      <td>4</td>\n",
       "      <td>FS-1418845</td>\n",
       "      <td>FED</td>\n",
       "      <td>FS-FIRESTAT</td>\n",
       "      <td>FS</td>\n",
       "      <td>USCAENF</td>\n",
       "      <td>Eldorado National Forest</td>\n",
       "      <td>0503</td>\n",
       "      <td>Eldorado National Forest</td>\n",
       "      <td>...</td>\n",
       "      <td>A</td>\n",
       "      <td>38.559167</td>\n",
       "      <td>-119.913333</td>\n",
       "      <td>5.0</td>\n",
       "      <td>USFS</td>\n",
       "      <td>CA</td>\n",
       "      <td>3</td>\n",
       "      <td>003</td>\n",
       "      <td>Alpine</td>\n",
       "      <td>b'\\x00\\x01\\xad\\x10\\x00\\x00\\x94\\xac\\xa3\\rt\\xfa]...</td>\n",
       "    </tr>\n",
       "    <tr>\n",
       "      <th>4</th>\n",
       "      <td>5</td>\n",
       "      <td>5</td>\n",
       "      <td>FS-1418847</td>\n",
       "      <td>FED</td>\n",
       "      <td>FS-FIRESTAT</td>\n",
       "      <td>FS</td>\n",
       "      <td>USCAENF</td>\n",
       "      <td>Eldorado National Forest</td>\n",
       "      <td>0503</td>\n",
       "      <td>Eldorado National Forest</td>\n",
       "      <td>...</td>\n",
       "      <td>A</td>\n",
       "      <td>38.559167</td>\n",
       "      <td>-119.933056</td>\n",
       "      <td>5.0</td>\n",
       "      <td>USFS</td>\n",
       "      <td>CA</td>\n",
       "      <td>3</td>\n",
       "      <td>003</td>\n",
       "      <td>Alpine</td>\n",
       "      <td>b'\\x00\\x01\\xad\\x10\\x00\\x00@\\xe3\\xaa.\\xb7\\xfb]\\...</td>\n",
       "    </tr>\n",
       "  </tbody>\n",
       "</table>\n",
       "<p>5 rows × 39 columns</p>\n",
       "</div>"
      ],
      "text/plain": [
       "   OBJECTID  FOD_ID      FPA_ID SOURCE_SYSTEM_TYPE SOURCE_SYSTEM  \\\n",
       "0         1       1  FS-1418826                FED   FS-FIRESTAT   \n",
       "1         2       2  FS-1418827                FED   FS-FIRESTAT   \n",
       "2         3       3  FS-1418835                FED   FS-FIRESTAT   \n",
       "3         4       4  FS-1418845                FED   FS-FIRESTAT   \n",
       "4         5       5  FS-1418847                FED   FS-FIRESTAT   \n",
       "\n",
       "  NWCG_REPORTING_AGENCY NWCG_REPORTING_UNIT_ID  NWCG_REPORTING_UNIT_NAME  \\\n",
       "0                    FS                USCAPNF    Plumas National Forest   \n",
       "1                    FS                USCAENF  Eldorado National Forest   \n",
       "2                    FS                USCAENF  Eldorado National Forest   \n",
       "3                    FS                USCAENF  Eldorado National Forest   \n",
       "4                    FS                USCAENF  Eldorado National Forest   \n",
       "\n",
       "  SOURCE_REPORTING_UNIT SOURCE_REPORTING_UNIT_NAME  ... FIRE_SIZE_CLASS  \\\n",
       "0                  0511     Plumas National Forest  ...               A   \n",
       "1                  0503   Eldorado National Forest  ...               A   \n",
       "2                  0503   Eldorado National Forest  ...               A   \n",
       "3                  0503   Eldorado National Forest  ...               A   \n",
       "4                  0503   Eldorado National Forest  ...               A   \n",
       "\n",
       "    LATITUDE   LONGITUDE OWNER_CODE       OWNER_DESCR STATE COUNTY FIPS_CODE  \\\n",
       "0  40.036944 -121.005833        5.0              USFS    CA     63       063   \n",
       "1  38.933056 -120.404444        5.0              USFS    CA     61       061   \n",
       "2  38.984167 -120.735556       13.0  STATE OR PRIVATE    CA     17       017   \n",
       "3  38.559167 -119.913333        5.0              USFS    CA      3       003   \n",
       "4  38.559167 -119.933056        5.0              USFS    CA      3       003   \n",
       "\n",
       "   FIPS_NAME                                              Shape  \n",
       "0     Plumas  b'\\x00\\x01\\xad\\x10\\x00\\x00\\xe8d\\xc2\\x92_@^\\xc0...  \n",
       "1     Placer  b'\\x00\\x01\\xad\\x10\\x00\\x00T\\xb6\\xeej\\xe2\\x19^\\...  \n",
       "2  El Dorado  b'\\x00\\x01\\xad\\x10\\x00\\x00\\xd0\\xa5\\xa0W\\x13/^\\...  \n",
       "3     Alpine  b'\\x00\\x01\\xad\\x10\\x00\\x00\\x94\\xac\\xa3\\rt\\xfa]...  \n",
       "4     Alpine  b'\\x00\\x01\\xad\\x10\\x00\\x00@\\xe3\\xaa.\\xb7\\xfb]\\...  \n",
       "\n",
       "[5 rows x 39 columns]"
      ]
     },
     "execution_count": 3,
     "metadata": {},
     "output_type": "execute_result"
    }
   ],
   "source": [
    "df = pd.read_sql_query(\"SELECT * FROM fires;\", conn)\n",
    "df.head()"
   ]
  },
  {
   "cell_type": "markdown",
   "id": "1a4f611b",
   "metadata": {},
   "source": [
    "## 3. Statistically analyzing the dataset\n",
    "\n",
    "### Columns in Dataset"
   ]
  },
  {
   "cell_type": "code",
   "execution_count": 9,
   "id": "9dc6a389",
   "metadata": {},
   "outputs": [
    {
     "name": "stdout",
     "output_type": "stream",
     "text": [
      "Column names for this datset are: \n",
      " Index(['OBJECTID', 'FOD_ID', 'FPA_ID', 'SOURCE_SYSTEM_TYPE', 'SOURCE_SYSTEM',\n",
      "       'NWCG_REPORTING_AGENCY', 'NWCG_REPORTING_UNIT_ID',\n",
      "       'NWCG_REPORTING_UNIT_NAME', 'SOURCE_REPORTING_UNIT',\n",
      "       'SOURCE_REPORTING_UNIT_NAME', 'LOCAL_FIRE_REPORT_ID',\n",
      "       'LOCAL_INCIDENT_ID', 'FIRE_CODE', 'FIRE_NAME',\n",
      "       'ICS_209_INCIDENT_NUMBER', 'ICS_209_NAME', 'MTBS_ID', 'MTBS_FIRE_NAME',\n",
      "       'COMPLEX_NAME', 'FIRE_YEAR', 'DISCOVERY_DATE', 'DISCOVERY_DOY',\n",
      "       'DISCOVERY_TIME', 'STAT_CAUSE_CODE', 'STAT_CAUSE_DESCR', 'CONT_DATE',\n",
      "       'CONT_DOY', 'CONT_TIME', 'FIRE_SIZE', 'FIRE_SIZE_CLASS', 'LATITUDE',\n",
      "       'LONGITUDE', 'OWNER_CODE', 'OWNER_DESCR', 'STATE', 'COUNTY',\n",
      "       'FIPS_CODE', 'FIPS_NAME', 'Shape'],\n",
      "      dtype='object') \n",
      "\n",
      "Number of Columns in this datset are: 39 \n",
      "\n",
      "Dataset Shape is:  (1880465, 39) \n",
      "\n"
     ]
    }
   ],
   "source": [
    "print('Column names for this datset are: \\n',df.columns, '\\n')\n",
    "print('Number of Columns in this datset are:',len(df.columns), '\\n')\n",
    "print('Dataset Shape is: ', df.shape, '\\n')\n",
    "# print(df.info())"
   ]
  },
  {
   "cell_type": "markdown",
   "id": "50cf3c81",
   "metadata": {},
   "source": [
    "### Data Analysis\n",
    "The Dataset has 39 columns. 12 columns have numeric data type(8 float + 4 integer). 27 columns are objects which have to be converted to numerical data type for ML Model.\n",
    "\n",
    "A lot of features are just UIDs that depict some Fire Department. They are not providing any value and are increasing the dimentionality of the Data. These should be removed. Proper analysis will be performed before removing them.\n",
    "\n",
    "'FIRE_SIZE_CLASS' feature will be used as our class label.\n",
    "\n",
    "### Class Label"
   ]
  },
  {
   "cell_type": "code",
   "execution_count": 11,
   "id": "2b00c647",
   "metadata": {},
   "outputs": [
    {
     "name": "stdout",
     "output_type": "stream",
     "text": [
      "Unique values for Column FIRE_SIZE_CLASS are:  ['A' 'B' 'G' 'C' 'D' 'F' 'E']\n",
      "Length of Unique values for Column FIRE_SIZE_CLASS are:  7\n",
      "Number of null entries for Column FIRE_SIZE_CLASS are:  0\n"
     ]
    }
   ],
   "source": [
    "#Class Labels: FIRE_SIZE_CLASS     \n",
    "\n",
    "#First analysing the feature which would be used as the class label.\n",
    "print('Unique values for Column FIRE_SIZE_CLASS are: ', df.FIRE_SIZE_CLASS.unique())\n",
    "print('Length of Unique values for Column FIRE_SIZE_CLASS are: ', len(df.FIRE_SIZE_CLASS.unique()))\n",
    "\n",
    "#Check for null values\n",
    "bool_series = pd.isnull(df['FIRE_SIZE_CLASS'])\n",
    "print('Number of null entries for Column FIRE_SIZE_CLASS are: ', len(df[bool_series]))  "
   ]
  },
  {
   "cell_type": "code",
   "execution_count": 12,
   "id": "6e7b16b2",
   "metadata": {},
   "outputs": [
    {
     "data": {
      "text/plain": [
       "0          1\n",
       "1          1\n",
       "2          1\n",
       "3          1\n",
       "4          1\n",
       "          ..\n",
       "1880460    1\n",
       "1880461    1\n",
       "1880462    1\n",
       "1880463    2\n",
       "1880464    1\n",
       "Name: FIRE_SIZE_CLASS, Length: 1880465, dtype: int64"
      ]
     },
     "execution_count": 12,
     "metadata": {},
     "output_type": "execute_result"
    }
   ],
   "source": [
    "#Since it is an Object data type, converting it into numeric form for further analysis\n",
    "df['FIRE_SIZE_CLASS'] = df['FIRE_SIZE_CLASS'].map({'A': 1, 'B': 2, 'C':3, 'D':4, 'E': 5, 'F': 6,'G': 7}) \n",
    "df['FIRE_SIZE_CLASS'].astype('int64')"
   ]
  },
  {
   "cell_type": "code",
   "execution_count": 15,
   "id": "99b21590",
   "metadata": {},
   "outputs": [
    {
     "data": {
      "image/png": "[encoded data removed]",
      "text/plain": [
       "<Figure size 432x432 with 1 Axes>"
      ]
     },
     "metadata": {},
     "output_type": "display_data"
    }
   ],
   "source": [
    "#Graphical Analysis to check the distribution\n",
    "plt.figure(figsize=(6,6), facecolor='grey')\n",
    "sns.set_style(\"dark\")\n",
    "sns.countplot(x ='FIRE_SIZE_CLASS', data = df) \n",
    "plt.xlabel('Fire size class')\n",
    "plt.title('Distribution of Fire Size Class')\n",
    "plt.ylabel('Count')\n",
    "plt.show()"
   ]
  },
  {
   "cell_type": "markdown",
   "id": "2899b2ae",
   "metadata": {},
   "source": [
    "### Different Fire Size Classes:\n",
    "1. 1/A: Fire Spread Area between 0-0.25 acres\n",
    "2. 2/B: Fire Spread Area between 0.26-9.9 acres\n",
    "3. 3/C: Fire Spread Area between 10.0-99.9 acres\n",
    "4. 4/D: Fire Spread Area between 100-299 acres\n",
    "5. 5/E: Fire Spread Area between 300-999 acres\n",
    "6. 6/F: Fire Spread Area between 1000-4999 acres\n",
    "7. 7/G: 5000+ acres"
   ]
  },
  {
   "cell_type": "markdown",
   "id": "7e717c28",
   "metadata": {},
   "source": [
    "### Highly Imbalanced Dataset\n",
    "The dataset is highly imbalanced with maximum count of forest fires lying in Class 2. Class 7 has the minimum fire incidents. \n",
    "Exact number of incidents for each class can be obtained in the cell below:"
   ]
  },
  {
   "cell_type": "code",
   "execution_count": 16,
   "id": "8d794e65",
   "metadata": {},
   "outputs": [
    {
     "data": {
      "text/plain": [
       "2    939376\n",
       "1    666919\n",
       "3    220077\n",
       "4     28427\n",
       "5     14107\n",
       "6      7786\n",
       "7      3773\n",
       "Name: FIRE_SIZE_CLASS, dtype: int64"
      ]
     },
     "execution_count": 16,
     "metadata": {},
     "output_type": "execute_result"
    }
   ],
   "source": [
    "#Checking count of each forest fire class\n",
    "df['FIRE_SIZE_CLASS'].value_counts()"
   ]
  },
  {
   "cell_type": "markdown",
   "id": "2a75a26f",
   "metadata": {},
   "source": [
    "### Feature Analysis"
   ]
  },
  {
   "cell_type": "code",
   "execution_count": 17,
   "id": "e349bf79",
   "metadata": {},
   "outputs": [
    {
     "name": "stdout",
     "output_type": "stream",
     "text": [
      "Unique values for Column OBJECTID are:  [      1       2       3 ... 1880463 1880464 1880465]\n",
      "Length of Unique values for Column OBJECTID are:  1880465\n",
      "Number of null entries for Column OBJECTID are:  0\n"
     ]
    }
   ],
   "source": [
    "#Feature 1: OBJECTID     \n",
    "\n",
    "# Checking all Unique Values\n",
    "print('Unique values for Column OBJECTID are: ', df.OBJECTID.unique())\n",
    "print('Length of Unique values for Column OBJECTID are: ', len(df.OBJECTID.unique()))\n",
    "\n",
    "#Check for null values\n",
    "bool_series = pd.isnull(df['OBJECTID'])\n",
    "print('Number of null entries for Column OBJECTID are: ', len(df[bool_series]))  "
   ]
  },
  {
   "cell_type": "markdown",
   "id": "1fe9669c",
   "metadata": {},
   "source": [
    "As we can see this column has a unique value for each row, therefore it is just an identifier. So removing this column as it does not provide any value to ML Model."
   ]
  },
  {
   "cell_type": "code",
   "execution_count": 18,
   "id": "6de01346",
   "metadata": {},
   "outputs": [
    {
     "data": {
      "text/plain": [
       "(1880465, 38)"
      ]
     },
     "execution_count": 18,
     "metadata": {},
     "output_type": "execute_result"
    }
   ],
   "source": [
    "del df['OBJECTID']\n",
    "df.shape"
   ]
  },
  {
   "cell_type": "code",
   "execution_count": null,
   "id": "87deab33",
   "metadata": {},
   "outputs": [],
   "source": []
  }
 ],
 "metadata": {
  "kernelspec": {
   "display_name": "Python 3 (ipykernel)",
   "language": "python",
   "name": "python3"
  },
  "language_info": {
   "codemirror_mode": {
    "name": "ipython",
    "version": 3
   },
   "file_extension": ".py",
   "mimetype": "text/x-python",
   "name": "python",
   "nbconvert_exporter": "python",
   "pygments_lexer": "ipython3",
   "version": "3.8.10"
  }
 },
 "nbformat": 4,
 "nbformat_minor": 5
}
