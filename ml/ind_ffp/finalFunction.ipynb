{
 "cells": [
  {
   "cell_type": "code",
   "execution_count": 1,
   "id": "73378181",
   "metadata": {},
   "outputs": [],
   "source": [
    "import sqlite3\n",
    "import numpy as np\n",
    "import pandas as pd\n",
    "import seaborn as sns\n",
    "import matplotlib.pyplot as plt\n",
    "from sklearn.model_selection import train_test_split\n",
    "from sklearn import preprocessing \n",
    "from IPython.display import display\n",
    "from sklearn import tree\n",
    "from sklearn.manifold import TSNE\n",
    "from sklearn import svm\n",
    "from sklearn.svm import SVC \n",
    "from sklearn import linear_model\n",
    "import joblib \n",
    "from sklearn.metrics import mean_absolute_error\n",
    "from sklearn.metrics import log_loss\n",
    "from sklearn.metrics import confusion_matrix\n",
    "from sklearn.multiclass import OneVsRestClassifier\n",
    "from sklearn.naive_bayes import GaussianNB \n",
    "from sklearn.ensemble import RandomForestClassifier\n",
    "from sklearn.neighbors import KNeighborsClassifier \n",
    "from sklearn.model_selection import RandomizedSearchCV"
   ]
  },
  {
   "cell_type": "code",
   "execution_count": 3,
   "id": "1357beca",
   "metadata": {},
   "outputs": [
    {
     "data": {
      "text/html": [
       "<div>\n",
       "<style scoped>\n",
       "    .dataframe tbody tr th:only-of-type {\n",
       "        vertical-align: middle;\n",
       "    }\n",
       "\n",
       "    .dataframe tbody tr th {\n",
       "        vertical-align: top;\n",
       "    }\n",
       "\n",
       "    .dataframe thead th {\n",
       "        text-align: right;\n",
       "    }\n",
       "</style>\n",
       "<table border=\"1\" class=\"dataframe\">\n",
       "  <thead>\n",
       "    <tr style=\"text-align: right;\">\n",
       "      <th></th>\n",
       "      <th>LATITUDE</th>\n",
       "      <th>LONGITUDE</th>\n",
       "      <th>ACQ_TIME</th>\n",
       "      <th>CONFIDENCE</th>\n",
       "      <th>DAYNIGHT</th>\n",
       "      <th>FRP</th>\n",
       "      <th>STATE</th>\n",
       "      <th>ACQ_YEAR</th>\n",
       "      <th>ACQ_MONTH</th>\n",
       "      <th>STATE_PRCNT_FOREST</th>\n",
       "      <th>AVG_TEMP</th>\n",
       "      <th>AVG_PREC</th>\n",
       "    </tr>\n",
       "  </thead>\n",
       "  <tbody>\n",
       "    <tr>\n",
       "      <th>22</th>\n",
       "      <td>17.20519</td>\n",
       "      <td>80.09620</td>\n",
       "      <td>1</td>\n",
       "      <td>6</td>\n",
       "      <td>1</td>\n",
       "      <td>1</td>\n",
       "      <td>33</td>\n",
       "      <td>2022</td>\n",
       "      <td>1</td>\n",
       "      <td>18.36</td>\n",
       "      <td>27.1</td>\n",
       "      <td>71.44</td>\n",
       "    </tr>\n",
       "    <tr>\n",
       "      <th>23</th>\n",
       "      <td>17.20362</td>\n",
       "      <td>80.10623</td>\n",
       "      <td>1</td>\n",
       "      <td>7</td>\n",
       "      <td>1</td>\n",
       "      <td>2</td>\n",
       "      <td>33</td>\n",
       "      <td>2022</td>\n",
       "      <td>1</td>\n",
       "      <td>18.36</td>\n",
       "      <td>27.1</td>\n",
       "      <td>71.44</td>\n",
       "    </tr>\n",
       "    <tr>\n",
       "      <th>24</th>\n",
       "      <td>17.61481</td>\n",
       "      <td>76.94758</td>\n",
       "      <td>1</td>\n",
       "      <td>7</td>\n",
       "      <td>1</td>\n",
       "      <td>2</td>\n",
       "      <td>26</td>\n",
       "      <td>2022</td>\n",
       "      <td>1</td>\n",
       "      <td>20.11</td>\n",
       "      <td>22.9</td>\n",
       "      <td>132.51</td>\n",
       "    </tr>\n",
       "    <tr>\n",
       "      <th>28</th>\n",
       "      <td>17.19704</td>\n",
       "      <td>78.13490</td>\n",
       "      <td>1</td>\n",
       "      <td>6</td>\n",
       "      <td>1</td>\n",
       "      <td>2</td>\n",
       "      <td>33</td>\n",
       "      <td>2022</td>\n",
       "      <td>1</td>\n",
       "      <td>18.36</td>\n",
       "      <td>27.1</td>\n",
       "      <td>71.44</td>\n",
       "    </tr>\n",
       "    <tr>\n",
       "      <th>29</th>\n",
       "      <td>17.20525</td>\n",
       "      <td>77.17860</td>\n",
       "      <td>1</td>\n",
       "      <td>7</td>\n",
       "      <td>1</td>\n",
       "      <td>2</td>\n",
       "      <td>26</td>\n",
       "      <td>2022</td>\n",
       "      <td>1</td>\n",
       "      <td>20.11</td>\n",
       "      <td>22.9</td>\n",
       "      <td>132.51</td>\n",
       "    </tr>\n",
       "  </tbody>\n",
       "</table>\n",
       "</div>"
      ],
      "text/plain": [
       "    LATITUDE  LONGITUDE  ACQ_TIME  CONFIDENCE  DAYNIGHT  FRP  STATE ACQ_YEAR  \\\n",
       "22  17.20519   80.09620         1           6         1    1     33     2022   \n",
       "23  17.20362   80.10623         1           7         1    2     33     2022   \n",
       "24  17.61481   76.94758         1           7         1    2     26     2022   \n",
       "28  17.19704   78.13490         1           6         1    2     33     2022   \n",
       "29  17.20525   77.17860         1           7         1    2     26     2022   \n",
       "\n",
       "    ACQ_MONTH  STATE_PRCNT_FOREST  AVG_TEMP  AVG_PREC  \n",
       "22          1               18.36      27.1     71.44  \n",
       "23          1               18.36      27.1     71.44  \n",
       "24          1               20.11      22.9    132.51  \n",
       "28          1               18.36      27.1     71.44  \n",
       "29          1               20.11      22.9    132.51  "
      ]
     },
     "execution_count": 3,
     "metadata": {},
     "output_type": "execute_result"
    }
   ],
   "source": [
    "dfx = pd.read_pickle('pickle/firmsxn_24JAN.pkl')\n",
    "dfx.head()"
   ]
  },
  {
   "cell_type": "code",
   "execution_count": 4,
   "id": "d5223106",
   "metadata": {},
   "outputs": [
    {
     "name": "stdout",
     "output_type": "stream",
     "text": [
      "     LATITUDE  LONGITUDE  ACQ_TIME  CONFIDENCE  DAYNIGHT  STATE ACQ_YEAR  \\\n",
      "30   16.08124   79.66899         1           7         1     34     2022   \n",
      "31   15.73662   77.15088         1           7         1     34     2022   \n",
      "32   15.38486   77.03533         1           7         1     26     2022   \n",
      "35   15.03169   77.57025         1           7         1     34     2022   \n",
      "36   15.21525   75.95771         1          10         1     26     2022   \n",
      "37   15.21385   75.96778         1          10         1     26     2022   \n",
      "38   13.06626   74.88441         1           6         1     26     2022   \n",
      "39   13.06478   74.89511         1           7         1     26     2022   \n",
      "42   11.03557   78.59195         1           7         1     30     2022   \n",
      "44   10.37057   77.43143         1           8         1     30     2022   \n",
      "46   23.03568   79.36069         1           7         1     22     2022   \n",
      "48   22.89334   78.87242         1           7         1     22     2022   \n",
      "49   22.85533   78.81638         1           7         1     22     2022   \n",
      "52   22.20425   75.93801         1           7         1     22     2022   \n",
      "57   21.40050   74.79194         1           9         1     25     2022   \n",
      "58   21.39876   74.80634         1           9         1     25     2022   \n",
      "59   20.40065   74.91774         1           7         1     25     2022   \n",
      "62   19.70062   74.74712         1           7         1     25     2022   \n",
      "67   19.24940   77.43364         1           7         1     25     2022   \n",
      "68   19.24802   77.44347         1           7         1     25     2022   \n",
      "69   19.22154   77.49953         1           7         1     25     2022   \n",
      "71   19.17842   77.08170         1           8         1     25     2022   \n",
      "72   19.17703   77.09175         1           7         1     25     2022   \n",
      "76   18.43218   78.06902         1           8         1     33     2022   \n",
      "78   17.88060   80.86321         1           7         1     33     2022   \n",
      "205  26.56339   92.35973         2           8         1     17     2022   \n",
      "206  26.56136   92.34750         2          10         1     17     2022   \n",
      "211  28.96943   95.78728         2           6         1     11     2022   \n",
      "218  13.96039   77.66070         2           7         1     34     2022   \n",
      "219  13.76898   75.75821         2           8         1     26     2022   \n",
      "221  16.23456   76.02917         2           7         1     26     2022   \n",
      "223  17.45034   78.22091         2           8         1     33     2022   \n",
      "225  17.26403   73.83391         2           7         1     25     2022   \n",
      "228  17.96535   75.77852         2           8         1     25     2022   \n",
      "231  18.07550   74.70912         2           7         1     25     2022   \n",
      "233  18.09821   73.22157         2           8         1     25     2022   \n",
      "234  18.09689   73.21223         2           7         1     25     2022   \n",
      "235  18.30332   74.43185         2           7         1     25     2022   \n",
      "236  18.26908   73.19194         2          10         1     25     2022   \n",
      "237  18.26776   73.18258         2           7         1     25     2022   \n",
      "238  18.33464   73.19413         2           7         1     25     2022   \n",
      "239  18.36079   73.31482         2          10         1     25     2022   \n",
      "240  18.35947   73.30542         2           7         1     25     2022   \n",
      "242  18.63531   74.30678         2           7         1     25     2022   \n",
      "243  18.64999   74.07697         2           9         1     25     2022   \n",
      "\n",
      "     ACQ_MONTH  STATE_PRCNT_FOREST  AVG_TEMP  AVG_PREC  \n",
      "30           1               17.88      27.5     87.25  \n",
      "31           1               17.88      27.5     87.25  \n",
      "32           1               20.11      22.9    132.51  \n",
      "35           1               17.88      27.5     87.25  \n",
      "36           1               20.11      22.9    132.51  \n",
      "37           1               20.11      22.9    132.51  \n",
      "38           1               20.11      22.9    132.51  \n",
      "39           1               20.11      22.9    132.51  \n",
      "42           1               20.27      27.9    100.38  \n",
      "44           1               20.27      27.9    100.38  \n",
      "46           1               25.14      25.3     78.26  \n",
      "48           1               25.14      25.3     78.26  \n",
      "49           1               25.14      25.3     78.26  \n",
      "52           1               25.14      25.3     78.26  \n",
      "57           1               16.50      26.4     53.70  \n",
      "58           1               16.50      26.4     53.70  \n",
      "59           1               16.50      26.4     53.70  \n",
      "62           1               16.50      26.4     53.70  \n",
      "67           1               16.50      26.4     53.70  \n",
      "68           1               16.50      26.4     53.70  \n",
      "69           1               16.50      26.4     53.70  \n",
      "71           1               16.50      26.4     53.70  \n",
      "72           1               16.50      26.4     53.70  \n",
      "76           1               18.36      27.1     71.44  \n",
      "78           1               18.36      27.1     71.44  \n",
      "205          1               36.11      24.0    205.90  \n",
      "206          1               36.11      24.0    205.90  \n",
      "211          1               79.63      20.8    230.62  \n",
      "218          1               17.88      27.5     87.25  \n",
      "219          1               20.11      22.9    132.51  \n",
      "221          1               20.11      22.9    132.51  \n",
      "223          1               18.36      27.1     71.44  \n",
      "225          1               16.50      26.4     53.70  \n",
      "228          1               16.50      26.4     53.70  \n",
      "231          1               16.50      26.4     53.70  \n",
      "233          1               16.50      26.4     53.70  \n",
      "234          1               16.50      26.4     53.70  \n",
      "235          1               16.50      26.4     53.70  \n",
      "236          1               16.50      26.4     53.70  \n",
      "237          1               16.50      26.4     53.70  \n",
      "238          1               16.50      26.4     53.70  \n",
      "239          1               16.50      26.4     53.70  \n",
      "240          1               16.50      26.4     53.70  \n",
      "242          1               16.50      26.4     53.70  \n",
      "243          1               16.50      26.4     53.70  \n"
     ]
    }
   ],
   "source": [
    "#Taking random 4500 rows of the entire datset to get their fire size class prediction, We can take any number of rows from any part of the data for getting the result\n",
    "dataset = dfx[5:50:1]\n",
    "dataset_func1 = dataset.drop(['FRP'], axis = 1)\n",
    "print(dataset_func1)"
   ]
  },
  {
   "cell_type": "code",
   "execution_count": 5,
   "id": "da46d221",
   "metadata": {},
   "outputs": [
    {
     "data": {
      "text/plain": [
       "Index(['LATITUDE', 'LONGITUDE', 'ACQ_TIME', 'CONFIDENCE', 'DAYNIGHT', 'FRP',\n",
       "       'STATE', 'ACQ_YEAR', 'ACQ_MONTH', 'STATE_PRCNT_FOREST', 'AVG_TEMP',\n",
       "       'AVG_PREC'],\n",
       "      dtype='object')"
      ]
     },
     "execution_count": 5,
     "metadata": {},
     "output_type": "execute_result"
    }
   ],
   "source": [
    "dataset.columns"
   ]
  },
  {
   "cell_type": "code",
   "execution_count": 8,
   "id": "92ae270e",
   "metadata": {},
   "outputs": [
    {
     "data": {
      "text/plain": [
       "LATITUDE              15.38486\n",
       "LONGITUDE             77.03533\n",
       "ACQ_TIME                     1\n",
       "CONFIDENCE                   7\n",
       "DAYNIGHT                     1\n",
       "FRP                          2\n",
       "STATE                       26\n",
       "ACQ_YEAR                  2022\n",
       "ACQ_MONTH                    1\n",
       "STATE_PRCNT_FOREST       20.11\n",
       "AVG_TEMP                  22.9\n",
       "AVG_PREC                132.51\n",
       "Name: 32, dtype: object"
      ]
     },
     "execution_count": 8,
     "metadata": {},
     "output_type": "execute_result"
    }
   ],
   "source": [
    "dfxn = dataset.iloc[1:3]\n",
    "dfxn.iloc[1]"
   ]
  },
  {
   "cell_type": "code",
   "execution_count": 10,
   "id": "e3e20229",
   "metadata": {},
   "outputs": [
    {
     "ename": "KeyError",
     "evalue": "\"['FRP'] not found in axis\"",
     "output_type": "error",
     "traceback": [
      "\u001b[1;31m---------------------------------------------------------------------------\u001b[0m",
      "\u001b[1;31mKeyError\u001b[0m                                  Traceback (most recent call last)",
      "\u001b[1;32mC:\\Users\\PRATIK~1\\AppData\\Local\\Temp/ipykernel_12512/3880752737.py\u001b[0m in \u001b[0;36m<module>\u001b[1;34m\u001b[0m\n\u001b[1;32m----> 1\u001b[1;33m \u001b[0mdfxn\u001b[0m \u001b[1;33m=\u001b[0m\u001b[0mdfxn\u001b[0m\u001b[1;33m.\u001b[0m\u001b[0mdrop\u001b[0m\u001b[1;33m(\u001b[0m\u001b[1;33m[\u001b[0m\u001b[1;34m'FRP'\u001b[0m\u001b[1;33m]\u001b[0m\u001b[1;33m,\u001b[0m \u001b[0maxis\u001b[0m \u001b[1;33m=\u001b[0m \u001b[1;36m1\u001b[0m\u001b[1;33m)\u001b[0m\u001b[1;33m\u001b[0m\u001b[1;33m\u001b[0m\u001b[0m\n\u001b[0m\u001b[0;32m      2\u001b[0m \u001b[0mdfxn\u001b[0m\u001b[1;33m.\u001b[0m\u001b[0mshape\u001b[0m\u001b[1;33m\u001b[0m\u001b[1;33m\u001b[0m\u001b[0m\n",
      "\u001b[1;32mc:\\users\\pratik temkar\\appdata\\local\\programs\\python\\python38\\lib\\site-packages\\pandas\\util\\_decorators.py\u001b[0m in \u001b[0;36mwrapper\u001b[1;34m(*args, **kwargs)\u001b[0m\n\u001b[0;32m    309\u001b[0m                     \u001b[0mstacklevel\u001b[0m\u001b[1;33m=\u001b[0m\u001b[0mstacklevel\u001b[0m\u001b[1;33m,\u001b[0m\u001b[1;33m\u001b[0m\u001b[1;33m\u001b[0m\u001b[0m\n\u001b[0;32m    310\u001b[0m                 )\n\u001b[1;32m--> 311\u001b[1;33m             \u001b[1;32mreturn\u001b[0m \u001b[0mfunc\u001b[0m\u001b[1;33m(\u001b[0m\u001b[1;33m*\u001b[0m\u001b[0margs\u001b[0m\u001b[1;33m,\u001b[0m \u001b[1;33m**\u001b[0m\u001b[0mkwargs\u001b[0m\u001b[1;33m)\u001b[0m\u001b[1;33m\u001b[0m\u001b[1;33m\u001b[0m\u001b[0m\n\u001b[0m\u001b[0;32m    312\u001b[0m \u001b[1;33m\u001b[0m\u001b[0m\n\u001b[0;32m    313\u001b[0m         \u001b[1;32mreturn\u001b[0m \u001b[0mwrapper\u001b[0m\u001b[1;33m\u001b[0m\u001b[1;33m\u001b[0m\u001b[0m\n",
      "\u001b[1;32mc:\\users\\pratik temkar\\appdata\\local\\programs\\python\\python38\\lib\\site-packages\\pandas\\core\\frame.py\u001b[0m in \u001b[0;36mdrop\u001b[1;34m(self, labels, axis, index, columns, level, inplace, errors)\u001b[0m\n\u001b[0;32m   4904\u001b[0m                 \u001b[0mweight\u001b[0m  \u001b[1;36m1.0\u001b[0m     \u001b[1;36m0.8\u001b[0m\u001b[1;33m\u001b[0m\u001b[1;33m\u001b[0m\u001b[0m\n\u001b[0;32m   4905\u001b[0m         \"\"\"\n\u001b[1;32m-> 4906\u001b[1;33m         return super().drop(\n\u001b[0m\u001b[0;32m   4907\u001b[0m             \u001b[0mlabels\u001b[0m\u001b[1;33m=\u001b[0m\u001b[0mlabels\u001b[0m\u001b[1;33m,\u001b[0m\u001b[1;33m\u001b[0m\u001b[1;33m\u001b[0m\u001b[0m\n\u001b[0;32m   4908\u001b[0m             \u001b[0maxis\u001b[0m\u001b[1;33m=\u001b[0m\u001b[0maxis\u001b[0m\u001b[1;33m,\u001b[0m\u001b[1;33m\u001b[0m\u001b[1;33m\u001b[0m\u001b[0m\n",
      "\u001b[1;32mc:\\users\\pratik temkar\\appdata\\local\\programs\\python\\python38\\lib\\site-packages\\pandas\\core\\generic.py\u001b[0m in \u001b[0;36mdrop\u001b[1;34m(self, labels, axis, index, columns, level, inplace, errors)\u001b[0m\n\u001b[0;32m   4148\u001b[0m         \u001b[1;32mfor\u001b[0m \u001b[0maxis\u001b[0m\u001b[1;33m,\u001b[0m \u001b[0mlabels\u001b[0m \u001b[1;32min\u001b[0m \u001b[0maxes\u001b[0m\u001b[1;33m.\u001b[0m\u001b[0mitems\u001b[0m\u001b[1;33m(\u001b[0m\u001b[1;33m)\u001b[0m\u001b[1;33m:\u001b[0m\u001b[1;33m\u001b[0m\u001b[1;33m\u001b[0m\u001b[0m\n\u001b[0;32m   4149\u001b[0m             \u001b[1;32mif\u001b[0m \u001b[0mlabels\u001b[0m \u001b[1;32mis\u001b[0m \u001b[1;32mnot\u001b[0m \u001b[1;32mNone\u001b[0m\u001b[1;33m:\u001b[0m\u001b[1;33m\u001b[0m\u001b[1;33m\u001b[0m\u001b[0m\n\u001b[1;32m-> 4150\u001b[1;33m                 \u001b[0mobj\u001b[0m \u001b[1;33m=\u001b[0m \u001b[0mobj\u001b[0m\u001b[1;33m.\u001b[0m\u001b[0m_drop_axis\u001b[0m\u001b[1;33m(\u001b[0m\u001b[0mlabels\u001b[0m\u001b[1;33m,\u001b[0m \u001b[0maxis\u001b[0m\u001b[1;33m,\u001b[0m \u001b[0mlevel\u001b[0m\u001b[1;33m=\u001b[0m\u001b[0mlevel\u001b[0m\u001b[1;33m,\u001b[0m \u001b[0merrors\u001b[0m\u001b[1;33m=\u001b[0m\u001b[0merrors\u001b[0m\u001b[1;33m)\u001b[0m\u001b[1;33m\u001b[0m\u001b[1;33m\u001b[0m\u001b[0m\n\u001b[0m\u001b[0;32m   4151\u001b[0m \u001b[1;33m\u001b[0m\u001b[0m\n\u001b[0;32m   4152\u001b[0m         \u001b[1;32mif\u001b[0m \u001b[0minplace\u001b[0m\u001b[1;33m:\u001b[0m\u001b[1;33m\u001b[0m\u001b[1;33m\u001b[0m\u001b[0m\n",
      "\u001b[1;32mc:\\users\\pratik temkar\\appdata\\local\\programs\\python\\python38\\lib\\site-packages\\pandas\\core\\generic.py\u001b[0m in \u001b[0;36m_drop_axis\u001b[1;34m(self, labels, axis, level, errors)\u001b[0m\n\u001b[0;32m   4183\u001b[0m                 \u001b[0mnew_axis\u001b[0m \u001b[1;33m=\u001b[0m \u001b[0maxis\u001b[0m\u001b[1;33m.\u001b[0m\u001b[0mdrop\u001b[0m\u001b[1;33m(\u001b[0m\u001b[0mlabels\u001b[0m\u001b[1;33m,\u001b[0m \u001b[0mlevel\u001b[0m\u001b[1;33m=\u001b[0m\u001b[0mlevel\u001b[0m\u001b[1;33m,\u001b[0m \u001b[0merrors\u001b[0m\u001b[1;33m=\u001b[0m\u001b[0merrors\u001b[0m\u001b[1;33m)\u001b[0m\u001b[1;33m\u001b[0m\u001b[1;33m\u001b[0m\u001b[0m\n\u001b[0;32m   4184\u001b[0m             \u001b[1;32melse\u001b[0m\u001b[1;33m:\u001b[0m\u001b[1;33m\u001b[0m\u001b[1;33m\u001b[0m\u001b[0m\n\u001b[1;32m-> 4185\u001b[1;33m                 \u001b[0mnew_axis\u001b[0m \u001b[1;33m=\u001b[0m \u001b[0maxis\u001b[0m\u001b[1;33m.\u001b[0m\u001b[0mdrop\u001b[0m\u001b[1;33m(\u001b[0m\u001b[0mlabels\u001b[0m\u001b[1;33m,\u001b[0m \u001b[0merrors\u001b[0m\u001b[1;33m=\u001b[0m\u001b[0merrors\u001b[0m\u001b[1;33m)\u001b[0m\u001b[1;33m\u001b[0m\u001b[1;33m\u001b[0m\u001b[0m\n\u001b[0m\u001b[0;32m   4186\u001b[0m             \u001b[0mresult\u001b[0m \u001b[1;33m=\u001b[0m \u001b[0mself\u001b[0m\u001b[1;33m.\u001b[0m\u001b[0mreindex\u001b[0m\u001b[1;33m(\u001b[0m\u001b[1;33m**\u001b[0m\u001b[1;33m{\u001b[0m\u001b[0maxis_name\u001b[0m\u001b[1;33m:\u001b[0m \u001b[0mnew_axis\u001b[0m\u001b[1;33m}\u001b[0m\u001b[1;33m)\u001b[0m\u001b[1;33m\u001b[0m\u001b[1;33m\u001b[0m\u001b[0m\n\u001b[0;32m   4187\u001b[0m \u001b[1;33m\u001b[0m\u001b[0m\n",
      "\u001b[1;32mc:\\users\\pratik temkar\\appdata\\local\\programs\\python\\python38\\lib\\site-packages\\pandas\\core\\indexes\\base.py\u001b[0m in \u001b[0;36mdrop\u001b[1;34m(self, labels, errors)\u001b[0m\n\u001b[0;32m   6015\u001b[0m         \u001b[1;32mif\u001b[0m \u001b[0mmask\u001b[0m\u001b[1;33m.\u001b[0m\u001b[0many\u001b[0m\u001b[1;33m(\u001b[0m\u001b[1;33m)\u001b[0m\u001b[1;33m:\u001b[0m\u001b[1;33m\u001b[0m\u001b[1;33m\u001b[0m\u001b[0m\n\u001b[0;32m   6016\u001b[0m             \u001b[1;32mif\u001b[0m \u001b[0merrors\u001b[0m \u001b[1;33m!=\u001b[0m \u001b[1;34m\"ignore\"\u001b[0m\u001b[1;33m:\u001b[0m\u001b[1;33m\u001b[0m\u001b[1;33m\u001b[0m\u001b[0m\n\u001b[1;32m-> 6017\u001b[1;33m                 \u001b[1;32mraise\u001b[0m \u001b[0mKeyError\u001b[0m\u001b[1;33m(\u001b[0m\u001b[1;34mf\"{labels[mask]} not found in axis\"\u001b[0m\u001b[1;33m)\u001b[0m\u001b[1;33m\u001b[0m\u001b[1;33m\u001b[0m\u001b[0m\n\u001b[0m\u001b[0;32m   6018\u001b[0m             \u001b[0mindexer\u001b[0m \u001b[1;33m=\u001b[0m \u001b[0mindexer\u001b[0m\u001b[1;33m[\u001b[0m\u001b[1;33m~\u001b[0m\u001b[0mmask\u001b[0m\u001b[1;33m]\u001b[0m\u001b[1;33m\u001b[0m\u001b[1;33m\u001b[0m\u001b[0m\n\u001b[0;32m   6019\u001b[0m         \u001b[1;32mreturn\u001b[0m \u001b[0mself\u001b[0m\u001b[1;33m.\u001b[0m\u001b[0mdelete\u001b[0m\u001b[1;33m(\u001b[0m\u001b[0mindexer\u001b[0m\u001b[1;33m)\u001b[0m\u001b[1;33m\u001b[0m\u001b[1;33m\u001b[0m\u001b[0m\n",
      "\u001b[1;31mKeyError\u001b[0m: \"['FRP'] not found in axis\""
     ]
    }
   ],
   "source": [
    "dfxn =dfxn.drop(['FRP'], axis = 1)"
   ]
  },
  {
   "cell_type": "code",
   "execution_count": 11,
   "id": "d5d8bf9b",
   "metadata": {},
   "outputs": [
    {
     "data": {
      "text/plain": [
       "(2, 11)"
      ]
     },
     "execution_count": 11,
     "metadata": {},
     "output_type": "execute_result"
    }
   ],
   "source": [
    "dfxn.shape"
   ]
  },
  {
   "cell_type": "code",
   "execution_count": 12,
   "id": "ed540f69",
   "metadata": {},
   "outputs": [],
   "source": [
    "def DataPrediction(data):\n",
    "  test_df = pd.DataFrame() \n",
    "  for i in range(3):\n",
    "    SampleModel = joblib.load('pickle/SampleModel_'+ str(i) + '.pkl')\n",
    "    predictedValues = SampleModel.predict(data)\n",
    "    columnName = 'predict' + str(i)\n",
    "    test_df[columnName] = predictedValues\n",
    "\n",
    "  test_finalPrediction = []\n",
    "  for j in range(len(test_df)):\n",
    "    row_list = test_df.iloc[j].values.tolist()\n",
    "    majority_count = max(set(row_list) , key=row_list.count)\n",
    "    test_finalPrediction.append(majority_count)\n",
    "\n",
    "  test_finalPrediction = np.array(test_finalPrediction)\n",
    "  return(test_finalPrediction)"
   ]
  },
  {
   "cell_type": "code",
   "execution_count": 13,
   "id": "38c71da6",
   "metadata": {},
   "outputs": [
    {
     "data": {
      "text/html": [
       "<div>\n",
       "<style scoped>\n",
       "    .dataframe tbody tr th:only-of-type {\n",
       "        vertical-align: middle;\n",
       "    }\n",
       "\n",
       "    .dataframe tbody tr th {\n",
       "        vertical-align: top;\n",
       "    }\n",
       "\n",
       "    .dataframe thead th {\n",
       "        text-align: right;\n",
       "    }\n",
       "</style>\n",
       "<table border=\"1\" class=\"dataframe\">\n",
       "  <thead>\n",
       "    <tr style=\"text-align: right;\">\n",
       "      <th></th>\n",
       "      <th>LATITUDE</th>\n",
       "      <th>LONGITUDE</th>\n",
       "      <th>ACQ_TIME</th>\n",
       "      <th>CONFIDENCE</th>\n",
       "      <th>DAYNIGHT</th>\n",
       "      <th>STATE</th>\n",
       "      <th>ACQ_YEAR</th>\n",
       "      <th>ACQ_MONTH</th>\n",
       "      <th>STATE_PRCNT_FOREST</th>\n",
       "      <th>AVG_TEMP</th>\n",
       "      <th>AVG_PREC</th>\n",
       "    </tr>\n",
       "  </thead>\n",
       "  <tbody>\n",
       "    <tr>\n",
       "      <th>31</th>\n",
       "      <td>15.73662</td>\n",
       "      <td>77.15088</td>\n",
       "      <td>1</td>\n",
       "      <td>7</td>\n",
       "      <td>1</td>\n",
       "      <td>34</td>\n",
       "      <td>2022</td>\n",
       "      <td>1</td>\n",
       "      <td>17.88</td>\n",
       "      <td>27.5</td>\n",
       "      <td>87.25</td>\n",
       "    </tr>\n",
       "    <tr>\n",
       "      <th>32</th>\n",
       "      <td>15.38486</td>\n",
       "      <td>77.03533</td>\n",
       "      <td>1</td>\n",
       "      <td>7</td>\n",
       "      <td>1</td>\n",
       "      <td>26</td>\n",
       "      <td>2022</td>\n",
       "      <td>1</td>\n",
       "      <td>20.11</td>\n",
       "      <td>22.9</td>\n",
       "      <td>132.51</td>\n",
       "    </tr>\n",
       "  </tbody>\n",
       "</table>\n",
       "</div>"
      ],
      "text/plain": [
       "    LATITUDE  LONGITUDE  ACQ_TIME  CONFIDENCE  DAYNIGHT  STATE ACQ_YEAR  \\\n",
       "31  15.73662   77.15088         1           7         1     34     2022   \n",
       "32  15.38486   77.03533         1           7         1     26     2022   \n",
       "\n",
       "    ACQ_MONTH  STATE_PRCNT_FOREST  AVG_TEMP  AVG_PREC  \n",
       "31          1               17.88      27.5     87.25  \n",
       "32          1               20.11      22.9    132.51  "
      ]
     },
     "execution_count": 13,
     "metadata": {},
     "output_type": "execute_result"
    }
   ],
   "source": [
    "dfxn.head()"
   ]
  },
  {
   "cell_type": "code",
   "execution_count": 14,
   "id": "9ebe71d1",
   "metadata": {},
   "outputs": [
    {
     "name": "stdout",
     "output_type": "stream",
     "text": [
      "[Parallel(n_jobs=1)]: Using backend SequentialBackend with 1 concurrent workers.\n",
      "[Parallel(n_jobs=1)]: Done   1 out of   1 | elapsed:    0.0s remaining:    0.0s\n",
      "[Parallel(n_jobs=1)]: Done   2 out of   2 | elapsed:    0.0s remaining:    0.0s\n",
      "[Parallel(n_jobs=1)]: Done   3 out of   3 | elapsed:    0.0s remaining:    0.0s\n",
      "[Parallel(n_jobs=1)]: Done   4 out of   4 | elapsed:    0.0s remaining:    0.0s\n",
      "[Parallel(n_jobs=1)]: Done   5 out of   5 | elapsed:    0.0s remaining:    0.0s\n",
      "[Parallel(n_jobs=1)]: Done   6 out of   6 | elapsed:    0.0s remaining:    0.0s\n",
      "[Parallel(n_jobs=1)]: Done   7 out of   7 | elapsed:    0.0s remaining:    0.0s\n",
      "[Parallel(n_jobs=1)]: Done   8 out of   8 | elapsed:    0.0s remaining:    0.0s\n",
      "[Parallel(n_jobs=1)]: Done   9 out of   9 | elapsed:    0.0s remaining:    0.0s\n",
      "[Parallel(n_jobs=1)]: Done  10 out of  10 | elapsed:    0.0s remaining:    0.0s\n",
      "[Parallel(n_jobs=1)]: Done  11 out of  11 | elapsed:    0.0s remaining:    0.0s\n",
      "[Parallel(n_jobs=1)]: Done  12 out of  12 | elapsed:    0.0s remaining:    0.0s\n",
      "[Parallel(n_jobs=1)]: Done  13 out of  13 | elapsed:    0.0s remaining:    0.0s\n",
      "[Parallel(n_jobs=1)]: Done  14 out of  14 | elapsed:    0.0s remaining:    0.0s\n",
      "[Parallel(n_jobs=1)]: Done  15 out of  15 | elapsed:    0.0s remaining:    0.0s\n",
      "[Parallel(n_jobs=1)]: Done  16 out of  16 | elapsed:    0.0s remaining:    0.0s\n",
      "[Parallel(n_jobs=1)]: Done  17 out of  17 | elapsed:    0.0s remaining:    0.0s\n",
      "[Parallel(n_jobs=1)]: Done  18 out of  18 | elapsed:    0.0s remaining:    0.0s\n",
      "[Parallel(n_jobs=1)]: Done  19 out of  19 | elapsed:    0.0s remaining:    0.0s\n",
      "[Parallel(n_jobs=1)]: Done  20 out of  20 | elapsed:    0.0s remaining:    0.0s\n",
      "[Parallel(n_jobs=1)]: Done  21 out of  21 | elapsed:    0.0s remaining:    0.0s\n",
      "[Parallel(n_jobs=1)]: Done  22 out of  22 | elapsed:    0.0s remaining:    0.0s\n",
      "[Parallel(n_jobs=1)]: Done  23 out of  23 | elapsed:    0.0s remaining:    0.0s\n",
      "[Parallel(n_jobs=1)]: Done  24 out of  24 | elapsed:    0.0s remaining:    0.0s\n",
      "[Parallel(n_jobs=1)]: Done  25 out of  25 | elapsed:    0.0s remaining:    0.0s\n",
      "[Parallel(n_jobs=1)]: Done  26 out of  26 | elapsed:    0.0s remaining:    0.0s\n",
      "[Parallel(n_jobs=1)]: Done  27 out of  27 | elapsed:    0.0s remaining:    0.0s\n",
      "[Parallel(n_jobs=1)]: Done  28 out of  28 | elapsed:    0.0s remaining:    0.0s\n",
      "[Parallel(n_jobs=1)]: Done  29 out of  29 | elapsed:    0.0s remaining:    0.0s\n",
      "[Parallel(n_jobs=1)]: Done  30 out of  30 | elapsed:    0.0s remaining:    0.0s\n",
      "[Parallel(n_jobs=1)]: Done  31 out of  31 | elapsed:    0.0s remaining:    0.0s\n",
      "[Parallel(n_jobs=1)]: Done  32 out of  32 | elapsed:    0.0s remaining:    0.0s\n",
      "[Parallel(n_jobs=1)]: Done  33 out of  33 | elapsed:    0.0s remaining:    0.0s\n",
      "[Parallel(n_jobs=1)]: Done  34 out of  34 | elapsed:    0.0s remaining:    0.0s\n",
      "[Parallel(n_jobs=1)]: Done  35 out of  35 | elapsed:    0.0s remaining:    0.0s\n",
      "[Parallel(n_jobs=1)]: Done  36 out of  36 | elapsed:    0.0s remaining:    0.0s\n",
      "[Parallel(n_jobs=1)]: Done  37 out of  37 | elapsed:    0.0s remaining:    0.0s\n",
      "[Parallel(n_jobs=1)]: Done  38 out of  38 | elapsed:    0.0s remaining:    0.0s\n",
      "[Parallel(n_jobs=1)]: Done  39 out of  39 | elapsed:    0.0s remaining:    0.0s\n",
      "[Parallel(n_jobs=1)]: Done  40 out of  40 | elapsed:    0.0s remaining:    0.0s\n",
      "[Parallel(n_jobs=1)]: Done  41 out of  41 | elapsed:    0.0s remaining:    0.0s\n",
      "[Parallel(n_jobs=1)]: Done  42 out of  42 | elapsed:    0.0s remaining:    0.0s\n",
      "[Parallel(n_jobs=1)]: Done  43 out of  43 | elapsed:    0.0s remaining:    0.0s\n",
      "[Parallel(n_jobs=1)]: Done  44 out of  44 | elapsed:    0.0s remaining:    0.0s\n",
      "[Parallel(n_jobs=1)]: Done  45 out of  45 | elapsed:    0.0s remaining:    0.0s\n",
      "[Parallel(n_jobs=1)]: Done  46 out of  46 | elapsed:    0.0s remaining:    0.0s\n",
      "[Parallel(n_jobs=1)]: Done  47 out of  47 | elapsed:    0.0s remaining:    0.0s\n",
      "[Parallel(n_jobs=1)]: Done  48 out of  48 | elapsed:    0.0s remaining:    0.0s\n",
      "[Parallel(n_jobs=1)]: Done  49 out of  49 | elapsed:    0.0s remaining:    0.0s\n",
      "[Parallel(n_jobs=1)]: Done 110 out of 110 | elapsed:    0.0s finished\n"
     ]
    }
   ],
   "source": [
    "res = DataPrediction(dfxn)"
   ]
  },
  {
   "cell_type": "code",
   "execution_count": 16,
   "id": "dbac89b0",
   "metadata": {},
   "outputs": [
    {
     "data": {
      "text/plain": [
       "array([2, 2])"
      ]
     },
     "execution_count": 16,
     "metadata": {},
     "output_type": "execute_result"
    }
   ],
   "source": [
    "res"
   ]
  },
  {
   "cell_type": "code",
   "execution_count": null,
   "id": "39c5322f",
   "metadata": {},
   "outputs": [],
   "source": []
  }
 ],
 "metadata": {
  "kernelspec": {
   "display_name": "Python 3 (ipykernel)",
   "language": "python",
   "name": "python3"
  },
  "language_info": {
   "codemirror_mode": {
    "name": "ipython",
    "version": 3
   },
   "file_extension": ".py",
   "mimetype": "text/x-python",
   "name": "python",
   "nbconvert_exporter": "python",
   "pygments_lexer": "ipython3",
   "version": "3.8.10"
  }
 },
 "nbformat": 4,
 "nbformat_minor": 5
}
